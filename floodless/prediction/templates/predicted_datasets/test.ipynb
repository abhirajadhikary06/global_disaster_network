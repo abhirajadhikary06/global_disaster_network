{
 "cells": [
  {
   "cell_type": "code",
   "execution_count": 7,
   "metadata": {},
   "outputs": [
    {
     "data": {
      "text/html": [
       "<a href='storm_predicted_final.csv' target='_blank'>storm_predicted_final.csv</a><br>"
      ],
      "text/plain": [
       "c:\\Abhiraj\\OpenSource\\Floodless\\floodless\\prediction\\templates\\predicted_datasets\\storm_predicted_final.csv"
      ]
     },
     "execution_count": 7,
     "metadata": {},
     "output_type": "execute_result"
    }
   ],
   "source": [
    "import pandas as pd\n",
    "from IPython.display import FileLink\n",
    "\n",
    "# Load the CSV file\n",
    "df = pd.read_csv('storm_predicted.csv')\n",
    "\n",
    "# Add a new column 'Disaster Type' and fill it with \"Drought\"\n",
    "df['Disaster Type'] = 'Storm'\n",
    "\n",
    "# Save the updated dataset to a new CSV file\n",
    "df.to_csv('storm_predicted_final.csv', index=False)\n",
    "\n",
    "# Provide a download link for the new file (if running in a Jupyter Notebook)\n",
    "FileLink('storm_predicted_final.csv')"
   ]
  }
 ],
 "metadata": {
  "kernelspec": {
   "display_name": "venv",
   "language": "python",
   "name": "python3"
  },
  "language_info": {
   "codemirror_mode": {
    "name": "ipython",
    "version": 3
   },
   "file_extension": ".py",
   "mimetype": "text/x-python",
   "name": "python",
   "nbconvert_exporter": "python",
   "pygments_lexer": "ipython3",
   "version": "3.13.0"
  }
 },
 "nbformat": 4,
 "nbformat_minor": 2
}
