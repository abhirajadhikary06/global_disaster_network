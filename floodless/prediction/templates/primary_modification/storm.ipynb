{
 "cells": [
  {
   "cell_type": "code",
   "execution_count": 1,
   "metadata": {},
   "outputs": [],
   "source": [
    "import numpy as np\n",
    "import pandas as pd\n",
    "import matplotlib.pyplot as plt\n",
    "import seaborn as sns\n",
    "import os"
   ]
  },
  {
   "cell_type": "code",
   "execution_count": 3,
   "metadata": {},
   "outputs": [],
   "source": [
    "script_dir = os.path.dirname(os.path.abspath(os.getcwd()))\n",
    "file_path = os.path.join(script_dir, \"raw_datasets\", \"storm.xlsx\")\n",
    "df = pd.read_excel(file_path)"
   ]
  },
  {
   "cell_type": "code",
   "execution_count": 4,
   "metadata": {},
   "outputs": [
    {
     "data": {
      "text/plain": [
       "(2672, 46)"
      ]
     },
     "execution_count": 4,
     "metadata": {},
     "output_type": "execute_result"
    }
   ],
   "source": [
    "df.shape"
   ]
  },
  {
   "cell_type": "code",
   "execution_count": 5,
   "metadata": {},
   "outputs": [
    {
     "data": {
      "text/html": [
       "<div>\n",
       "<style scoped>\n",
       "    .dataframe tbody tr th:only-of-type {\n",
       "        vertical-align: middle;\n",
       "    }\n",
       "\n",
       "    .dataframe tbody tr th {\n",
       "        vertical-align: top;\n",
       "    }\n",
       "\n",
       "    .dataframe thead th {\n",
       "        text-align: right;\n",
       "    }\n",
       "</style>\n",
       "<table border=\"1\" class=\"dataframe\">\n",
       "  <thead>\n",
       "    <tr style=\"text-align: right;\">\n",
       "      <th></th>\n",
       "      <th>DisNo.</th>\n",
       "      <th>Historic</th>\n",
       "      <th>Classification Key</th>\n",
       "      <th>Disaster Group</th>\n",
       "      <th>Disaster Subgroup</th>\n",
       "      <th>Disaster Type</th>\n",
       "      <th>Disaster Subtype</th>\n",
       "      <th>External IDs</th>\n",
       "      <th>Event Name</th>\n",
       "      <th>ISO</th>\n",
       "      <th>...</th>\n",
       "      <th>Reconstruction Costs ('000 US$)</th>\n",
       "      <th>Reconstruction Costs, Adjusted ('000 US$)</th>\n",
       "      <th>Insured Damage ('000 US$)</th>\n",
       "      <th>Insured Damage, Adjusted ('000 US$)</th>\n",
       "      <th>Total Damage ('000 US$)</th>\n",
       "      <th>Total Damage, Adjusted ('000 US$)</th>\n",
       "      <th>CPI</th>\n",
       "      <th>Admin Units</th>\n",
       "      <th>Entry Date</th>\n",
       "      <th>Last Update</th>\n",
       "    </tr>\n",
       "  </thead>\n",
       "  <tbody>\n",
       "    <tr>\n",
       "      <th>0</th>\n",
       "      <td>2000-0009-IRN</td>\n",
       "      <td>No</td>\n",
       "      <td>nat-met-sto-sto</td>\n",
       "      <td>Natural</td>\n",
       "      <td>Meteorological</td>\n",
       "      <td>Storm</td>\n",
       "      <td>Storm (General)</td>\n",
       "      <td>NaN</td>\n",
       "      <td>NaN</td>\n",
       "      <td>IRN</td>\n",
       "      <td>...</td>\n",
       "      <td>NaN</td>\n",
       "      <td>NaN</td>\n",
       "      <td>NaN</td>\n",
       "      <td>NaN</td>\n",
       "      <td>NaN</td>\n",
       "      <td>NaN</td>\n",
       "      <td>56.514291</td>\n",
       "      <td>[{\"adm1_code\":1545,\"adm1_name\":\"Gilan\"}]</td>\n",
       "      <td>2003-07-01</td>\n",
       "      <td>2023-09-25</td>\n",
       "    </tr>\n",
       "    <tr>\n",
       "      <th>1</th>\n",
       "      <td>2000-0021-USA</td>\n",
       "      <td>No</td>\n",
       "      <td>nat-met-sto-tor</td>\n",
       "      <td>Natural</td>\n",
       "      <td>Meteorological</td>\n",
       "      <td>Storm</td>\n",
       "      <td>Tornado</td>\n",
       "      <td>NaN</td>\n",
       "      <td>NaN</td>\n",
       "      <td>USA</td>\n",
       "      <td>...</td>\n",
       "      <td>NaN</td>\n",
       "      <td>NaN</td>\n",
       "      <td>200500.0</td>\n",
       "      <td>354778.0</td>\n",
       "      <td>210000.0</td>\n",
       "      <td>371587.0</td>\n",
       "      <td>56.514291</td>\n",
       "      <td>[{\"adm2_code\":29698,\"adm2_name\":\"Crittenden\"},...</td>\n",
       "      <td>2003-07-01</td>\n",
       "      <td>2023-09-25</td>\n",
       "    </tr>\n",
       "    <tr>\n",
       "      <th>2</th>\n",
       "      <td>2000-0028-ROU</td>\n",
       "      <td>No</td>\n",
       "      <td>nat-met-sto-bli</td>\n",
       "      <td>Natural</td>\n",
       "      <td>Meteorological</td>\n",
       "      <td>Storm</td>\n",
       "      <td>Blizzard/Winter storm</td>\n",
       "      <td>NaN</td>\n",
       "      <td>NaN</td>\n",
       "      <td>ROU</td>\n",
       "      <td>...</td>\n",
       "      <td>NaN</td>\n",
       "      <td>NaN</td>\n",
       "      <td>NaN</td>\n",
       "      <td>NaN</td>\n",
       "      <td>NaN</td>\n",
       "      <td>NaN</td>\n",
       "      <td>56.514291</td>\n",
       "      <td>[{\"adm1_code\":2450,\"adm1_name\":\"Bihor\"},{\"adm1...</td>\n",
       "      <td>2003-07-01</td>\n",
       "      <td>2023-09-25</td>\n",
       "    </tr>\n",
       "    <tr>\n",
       "      <th>3</th>\n",
       "      <td>2000-0037-REU</td>\n",
       "      <td>No</td>\n",
       "      <td>nat-met-sto-tro</td>\n",
       "      <td>Natural</td>\n",
       "      <td>Meteorological</td>\n",
       "      <td>Storm</td>\n",
       "      <td>Tropical cyclone</td>\n",
       "      <td>NaN</td>\n",
       "      <td>Connie</td>\n",
       "      <td>REU</td>\n",
       "      <td>...</td>\n",
       "      <td>NaN</td>\n",
       "      <td>NaN</td>\n",
       "      <td>NaN</td>\n",
       "      <td>NaN</td>\n",
       "      <td>NaN</td>\n",
       "      <td>NaN</td>\n",
       "      <td>56.514291</td>\n",
       "      <td>[{\"adm1_code\":2590,\"adm1_name\":\"Arrondissement...</td>\n",
       "      <td>2003-07-01</td>\n",
       "      <td>2023-09-25</td>\n",
       "    </tr>\n",
       "    <tr>\n",
       "      <th>4</th>\n",
       "      <td>2000-0050-MNG</td>\n",
       "      <td>No</td>\n",
       "      <td>nat-met-sto-sto</td>\n",
       "      <td>Natural</td>\n",
       "      <td>Meteorological</td>\n",
       "      <td>Storm</td>\n",
       "      <td>Storm (General)</td>\n",
       "      <td>NaN</td>\n",
       "      <td>NaN</td>\n",
       "      <td>MNG</td>\n",
       "      <td>...</td>\n",
       "      <td>NaN</td>\n",
       "      <td>NaN</td>\n",
       "      <td>NaN</td>\n",
       "      <td>NaN</td>\n",
       "      <td>80000.0</td>\n",
       "      <td>141557.0</td>\n",
       "      <td>56.514291</td>\n",
       "      <td>[{\"adm1_code\":2076,\"adm1_name\":\"Bayan-O'lgii\"}...</td>\n",
       "      <td>2005-07-08</td>\n",
       "      <td>2023-09-25</td>\n",
       "    </tr>\n",
       "  </tbody>\n",
       "</table>\n",
       "<p>5 rows × 46 columns</p>\n",
       "</div>"
      ],
      "text/plain": [
       "          DisNo. Historic Classification Key Disaster Group Disaster Subgroup  \\\n",
       "0  2000-0009-IRN       No    nat-met-sto-sto        Natural    Meteorological   \n",
       "1  2000-0021-USA       No    nat-met-sto-tor        Natural    Meteorological   \n",
       "2  2000-0028-ROU       No    nat-met-sto-bli        Natural    Meteorological   \n",
       "3  2000-0037-REU       No    nat-met-sto-tro        Natural    Meteorological   \n",
       "4  2000-0050-MNG       No    nat-met-sto-sto        Natural    Meteorological   \n",
       "\n",
       "  Disaster Type       Disaster Subtype External IDs Event Name  ISO  ...  \\\n",
       "0         Storm        Storm (General)          NaN        NaN  IRN  ...   \n",
       "1         Storm                Tornado          NaN        NaN  USA  ...   \n",
       "2         Storm  Blizzard/Winter storm          NaN        NaN  ROU  ...   \n",
       "3         Storm       Tropical cyclone          NaN     Connie  REU  ...   \n",
       "4         Storm        Storm (General)          NaN        NaN  MNG  ...   \n",
       "\n",
       "  Reconstruction Costs ('000 US$) Reconstruction Costs, Adjusted ('000 US$)  \\\n",
       "0                             NaN                                       NaN   \n",
       "1                             NaN                                       NaN   \n",
       "2                             NaN                                       NaN   \n",
       "3                             NaN                                       NaN   \n",
       "4                             NaN                                       NaN   \n",
       "\n",
       "  Insured Damage ('000 US$) Insured Damage, Adjusted ('000 US$)  \\\n",
       "0                       NaN                                 NaN   \n",
       "1                  200500.0                            354778.0   \n",
       "2                       NaN                                 NaN   \n",
       "3                       NaN                                 NaN   \n",
       "4                       NaN                                 NaN   \n",
       "\n",
       "  Total Damage ('000 US$) Total Damage, Adjusted ('000 US$)        CPI  \\\n",
       "0                     NaN                               NaN  56.514291   \n",
       "1                210000.0                          371587.0  56.514291   \n",
       "2                     NaN                               NaN  56.514291   \n",
       "3                     NaN                               NaN  56.514291   \n",
       "4                 80000.0                          141557.0  56.514291   \n",
       "\n",
       "                                         Admin Units  Entry Date  Last Update  \n",
       "0           [{\"adm1_code\":1545,\"adm1_name\":\"Gilan\"}]  2003-07-01   2023-09-25  \n",
       "1  [{\"adm2_code\":29698,\"adm2_name\":\"Crittenden\"},...  2003-07-01   2023-09-25  \n",
       "2  [{\"adm1_code\":2450,\"adm1_name\":\"Bihor\"},{\"adm1...  2003-07-01   2023-09-25  \n",
       "3  [{\"adm1_code\":2590,\"adm1_name\":\"Arrondissement...  2003-07-01   2023-09-25  \n",
       "4  [{\"adm1_code\":2076,\"adm1_name\":\"Bayan-O'lgii\"}...  2005-07-08   2023-09-25  \n",
       "\n",
       "[5 rows x 46 columns]"
      ]
     },
     "execution_count": 5,
     "metadata": {},
     "output_type": "execute_result"
    }
   ],
   "source": [
    "df.head()"
   ]
  },
  {
   "cell_type": "code",
   "execution_count": 6,
   "metadata": {},
   "outputs": [],
   "source": [
    "df.rename(columns={df.columns[0]: 'Year'}, inplace=True)\n",
    "required_columns = ['Year', 'Disaster Type', 'Country', 'Location', 'Total Affected', 'Magnitude']\n",
    "df = df[required_columns]\n",
    "df['Year'] = df['Year'].astype(str).str[:4]\n",
    "df['Location'] = df['Location'].str.split(',').str[0]"
   ]
  },
  {
   "cell_type": "code",
   "execution_count": 7,
   "metadata": {},
   "outputs": [
    {
     "data": {
      "text/plain": [
       "(2672, 6)"
      ]
     },
     "execution_count": 7,
     "metadata": {},
     "output_type": "execute_result"
    }
   ],
   "source": [
    "df.shape"
   ]
  },
  {
   "cell_type": "code",
   "execution_count": 8,
   "metadata": {},
   "outputs": [
    {
     "name": "stdout",
     "output_type": "stream",
     "text": [
      "<class 'pandas.core.frame.DataFrame'>\n",
      "RangeIndex: 2672 entries, 0 to 2671\n",
      "Data columns (total 6 columns):\n",
      " #   Column          Non-Null Count  Dtype  \n",
      "---  ------          --------------  -----  \n",
      " 0   Year            2672 non-null   object \n",
      " 1   Disaster Type   2672 non-null   object \n",
      " 2   Country         2672 non-null   object \n",
      " 3   Location        2542 non-null   object \n",
      " 4   Total Affected  1980 non-null   float64\n",
      " 5   Magnitude       816 non-null    float64\n",
      "dtypes: float64(2), object(4)\n",
      "memory usage: 125.4+ KB\n"
     ]
    }
   ],
   "source": [
    "df.info()"
   ]
  },
  {
   "cell_type": "code",
   "execution_count": 9,
   "metadata": {},
   "outputs": [
    {
     "data": {
      "text/plain": [
       "Year                 0\n",
       "Disaster Type        0\n",
       "Country              0\n",
       "Location           130\n",
       "Total Affected     692\n",
       "Magnitude         1856\n",
       "dtype: int64"
      ]
     },
     "execution_count": 9,
     "metadata": {},
     "output_type": "execute_result"
    }
   ],
   "source": [
    "df.isnull().sum()"
   ]
  },
  {
   "cell_type": "code",
   "execution_count": 10,
   "metadata": {},
   "outputs": [
    {
     "data": {
      "text/plain": [
       "<Axes: xlabel='Magnitude'>"
      ]
     },
     "execution_count": 10,
     "metadata": {},
     "output_type": "execute_result"
    },
    {
     "data": {
      "image/png": "[encoded data removed]",
      "text/plain": [
       "<Figure size 640x480 with 1 Axes>"
      ]
     },
     "metadata": {},
     "output_type": "display_data"
    }
   ],
   "source": [
    "sns.violinplot(x = 'Magnitude', data = df)"
   ]
  },
  {
   "cell_type": "code",
   "execution_count": 11,
   "metadata": {},
   "outputs": [
    {
     "data": {
      "text/plain": [
       "<Axes: xlabel='Total Affected'>"
      ]
     },
     "execution_count": 11,
     "metadata": {},
     "output_type": "execute_result"
    },
    {
     "data": {
      "image/png": "[encoded data removed]",
      "text/plain": [
       "<Figure size 640x480 with 1 Axes>"
      ]
     },
     "metadata": {},
     "output_type": "display_data"
    }
   ],
   "source": [
    "sns.violinplot(x = 'Total Affected', data = df)"
   ]
  },
  {
   "cell_type": "code",
   "execution_count": 12,
   "metadata": {},
   "outputs": [],
   "source": [
    "df['Magnitude'] = df['Magnitude'].apply(\n",
    "    lambda x: round(np.random.uniform(df['Magnitude'].min(), df['Magnitude'].max()), 1) if pd.isna(x) else x\n",
    ")"
   ]
  },
  {
   "cell_type": "code",
   "execution_count": 14,
   "metadata": {},
   "outputs": [
    {
     "name": "stderr",
     "output_type": "stream",
     "text": [
      "/var/folders/0p/vdvp33851vn1jcfb8t3_kyzm0000gn/T/ipykernel_82366/1995198506.py:1: FutureWarning: A value is trying to be set on a copy of a DataFrame or Series through chained assignment using an inplace method.\n",
      "The behavior will change in pandas 3.0. This inplace method will never work because the intermediate object on which we are setting values always behaves as a copy.\n",
      "\n",
      "For example, when doing 'df[col].method(value, inplace=True)', try using 'df.method({col: value}, inplace=True)' or df[col] = df[col].method(value) instead, to perform the operation inplace on the original object.\n",
      "\n",
      "\n",
      "  df['Total Affected'].fillna(df['Total Affected'].mode()[0], inplace=True)\n",
      "/var/folders/0p/vdvp33851vn1jcfb8t3_kyzm0000gn/T/ipykernel_82366/1995198506.py:2: FutureWarning: A value is trying to be set on a copy of a DataFrame or Series through chained assignment using an inplace method.\n",
      "The behavior will change in pandas 3.0. This inplace method will never work because the intermediate object on which we are setting values always behaves as a copy.\n",
      "\n",
      "For example, when doing 'df[col].method(value, inplace=True)', try using 'df.method({col: value}, inplace=True)' or df[col] = df[col].method(value) instead, to perform the operation inplace on the original object.\n",
      "\n",
      "\n",
      "  df['Location'].fillna(df['Location'].mode()[0], inplace=True)\n"
     ]
    }
   ],
   "source": [
    "df['Total Affected'].fillna(df['Total Affected'].mode()[0], inplace=True)\n",
    "df['Location'].fillna(df['Location'].mode()[0], inplace=True)"
   ]
  },
  {
   "cell_type": "code",
   "execution_count": 15,
   "metadata": {},
   "outputs": [
    {
     "data": {
      "text/plain": [
       "<Axes: xlabel='Magnitude'>"
      ]
     },
     "execution_count": 15,
     "metadata": {},
     "output_type": "execute_result"
    },
    {
     "data": {
      "image/png": "[encoded data removed]",
      "text/plain": [
       "<Figure size 640x480 with 1 Axes>"
      ]
     },
     "metadata": {},
     "output_type": "display_data"
    }
   ],
   "source": [
    "sns.violinplot(x = 'Magnitude', data = df)"
   ]
  },
  {
   "cell_type": "code",
   "execution_count": 16,
   "metadata": {},
   "outputs": [
    {
     "data": {
      "text/plain": [
       "<Axes: xlabel='Total Affected'>"
      ]
     },
     "execution_count": 16,
     "metadata": {},
     "output_type": "execute_result"
    },
    {
     "data": {
      "image/png": "[encoded data removed]",
      "text/plain": [
       "<Figure size 640x480 with 1 Axes>"
      ]
     },
     "metadata": {},
     "output_type": "display_data"
    }
   ],
   "source": [
    "sns.violinplot(x = 'Total Affected', data = df)"
   ]
  },
  {
   "cell_type": "code",
   "execution_count": 17,
   "metadata": {},
   "outputs": [
    {
     "data": {
      "text/plain": [
       "Year              0\n",
       "Disaster Type     0\n",
       "Country           0\n",
       "Location          0\n",
       "Total Affected    0\n",
       "Magnitude         0\n",
       "dtype: int64"
      ]
     },
     "execution_count": 17,
     "metadata": {},
     "output_type": "execute_result"
    }
   ],
   "source": [
    "df.isnull().sum()"
   ]
  },
  {
   "cell_type": "code",
   "execution_count": 18,
   "metadata": {},
   "outputs": [],
   "source": [
    "df.to_csv(\"storm_cleaned.csv\", index=False)"
   ]
  },
  {
   "cell_type": "code",
   "execution_count": null,
   "metadata": {},
   "outputs": [],
   "source": []
  }
 ],
 "metadata": {
  "kernelspec": {
   "display_name": "Python 3",
   "language": "python",
   "name": "python3"
  },
  "language_info": {
   "codemirror_mode": {
    "name": "ipython",
    "version": 3
   },
   "file_extension": ".py",
   "mimetype": "text/x-python",
   "name": "python",
   "nbconvert_exporter": "python",
   "pygments_lexer": "ipython3",
   "version": "3.13.0"
  }
 },
 "nbformat": 4,
 "nbformat_minor": 2
}
