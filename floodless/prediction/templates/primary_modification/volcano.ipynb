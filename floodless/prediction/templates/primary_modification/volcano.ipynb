{
 "cells": [
  {
   "cell_type": "code",
   "execution_count": 1,
   "metadata": {},
   "outputs": [],
   "source": [
    "import numpy as np\n",
    "import pandas as pd\n",
    "import matplotlib.pyplot as plt\n",
    "import seaborn as sns\n",
    "import os"
   ]
  },
  {
   "cell_type": "code",
   "execution_count": 2,
   "metadata": {},
   "outputs": [],
   "source": [
    "script_dir = os.path.dirname(os.path.abspath(os.getcwd()))\n",
    "file_path = os.path.join(script_dir, \"raw_datasets\", \"volcanic_activity.xlsx\")\n",
    "df = pd.read_excel(file_path)"
   ]
  },
  {
   "cell_type": "code",
   "execution_count": 3,
   "metadata": {},
   "outputs": [
    {
     "data": {
      "text/plain": [
       "(129, 46)"
      ]
     },
     "execution_count": 3,
     "metadata": {},
     "output_type": "execute_result"
    }
   ],
   "source": [
    "df.shape"
   ]
  },
  {
   "cell_type": "code",
   "execution_count": 4,
   "metadata": {},
   "outputs": [],
   "source": [
    "df.rename(columns={df.columns[0]: 'Year'}, inplace=True)\n",
    "required_columns = ['Year', 'Disaster Type', 'Country', 'Location', 'Total Affected', 'Magnitude']\n",
    "df = df[required_columns]\n",
    "df['Year'] = df['Year'].astype(str).str[:4]\n",
    "df['Location'] = df['Location'].str.split(',').str[0]"
   ]
  },
  {
   "cell_type": "code",
   "execution_count": 5,
   "metadata": {},
   "outputs": [
    {
     "data": {
      "text/plain": [
       "Year                0\n",
       "Disaster Type       0\n",
       "Country             0\n",
       "Location            2\n",
       "Total Affected      9\n",
       "Magnitude         129\n",
       "dtype: int64"
      ]
     },
     "execution_count": 5,
     "metadata": {},
     "output_type": "execute_result"
    }
   ],
   "source": [
    "df.isnull().sum()"
   ]
  },
  {
   "cell_type": "code",
   "execution_count": 6,
   "metadata": {},
   "outputs": [
    {
     "data": {
      "text/html": [
       "<div>\n",
       "<style scoped>\n",
       "    .dataframe tbody tr th:only-of-type {\n",
       "        vertical-align: middle;\n",
       "    }\n",
       "\n",
       "    .dataframe tbody tr th {\n",
       "        vertical-align: top;\n",
       "    }\n",
       "\n",
       "    .dataframe thead th {\n",
       "        text-align: right;\n",
       "    }\n",
       "</style>\n",
       "<table border=\"1\" class=\"dataframe\">\n",
       "  <thead>\n",
       "    <tr style=\"text-align: right;\">\n",
       "      <th></th>\n",
       "      <th>Year</th>\n",
       "      <th>Disaster Type</th>\n",
       "      <th>Country</th>\n",
       "      <th>Location</th>\n",
       "      <th>Total Affected</th>\n",
       "      <th>Magnitude</th>\n",
       "    </tr>\n",
       "  </thead>\n",
       "  <tbody>\n",
       "    <tr>\n",
       "      <th>0</th>\n",
       "      <td>2000</td>\n",
       "      <td>Volcanic activity</td>\n",
       "      <td>Guatemala</td>\n",
       "      <td>El Caracol</td>\n",
       "      <td>800.0</td>\n",
       "      <td>NaN</td>\n",
       "    </tr>\n",
       "    <tr>\n",
       "      <th>1</th>\n",
       "      <td>2000</td>\n",
       "      <td>Volcanic activity</td>\n",
       "      <td>Philippines</td>\n",
       "      <td>Legazpi City area (Albay district</td>\n",
       "      <td>68426.0</td>\n",
       "      <td>NaN</td>\n",
       "    </tr>\n",
       "    <tr>\n",
       "      <th>2</th>\n",
       "      <td>2000</td>\n",
       "      <td>Volcanic activity</td>\n",
       "      <td>Japan</td>\n",
       "      <td>Abutatyoo</td>\n",
       "      <td>12400.0</td>\n",
       "      <td>NaN</td>\n",
       "    </tr>\n",
       "    <tr>\n",
       "      <th>3</th>\n",
       "      <td>2000</td>\n",
       "      <td>Volcanic activity</td>\n",
       "      <td>Japan</td>\n",
       "      <td>Miyakemura district (Tookyoo province)</td>\n",
       "      <td>4000.0</td>\n",
       "      <td>NaN</td>\n",
       "    </tr>\n",
       "    <tr>\n",
       "      <th>4</th>\n",
       "      <td>2000</td>\n",
       "      <td>Volcanic activity</td>\n",
       "      <td>Mexico</td>\n",
       "      <td>Mexico</td>\n",
       "      <td>41000.0</td>\n",
       "      <td>NaN</td>\n",
       "    </tr>\n",
       "    <tr>\n",
       "      <th>...</th>\n",
       "      <td>...</td>\n",
       "      <td>...</td>\n",
       "      <td>...</td>\n",
       "      <td>...</td>\n",
       "      <td>...</td>\n",
       "      <td>...</td>\n",
       "    </tr>\n",
       "    <tr>\n",
       "      <th>124</th>\n",
       "      <td>2024</td>\n",
       "      <td>Volcanic activity</td>\n",
       "      <td>Philippines</td>\n",
       "      <td>La Castellana and Canlaon (Negros Oriental and...</td>\n",
       "      <td>29137.0</td>\n",
       "      <td>NaN</td>\n",
       "    </tr>\n",
       "    <tr>\n",
       "      <th>125</th>\n",
       "      <td>2024</td>\n",
       "      <td>Volcanic activity</td>\n",
       "      <td>Indonesia</td>\n",
       "      <td>North Maluku province (west Halmahera Island)</td>\n",
       "      <td>2011.0</td>\n",
       "      <td>NaN</td>\n",
       "    </tr>\n",
       "    <tr>\n",
       "      <th>126</th>\n",
       "      <td>2024</td>\n",
       "      <td>Volcanic activity</td>\n",
       "      <td>Indonesia</td>\n",
       "      <td>Pululera</td>\n",
       "      <td>11511.0</td>\n",
       "      <td>NaN</td>\n",
       "    </tr>\n",
       "    <tr>\n",
       "      <th>127</th>\n",
       "      <td>2024</td>\n",
       "      <td>Volcanic activity</td>\n",
       "      <td>Colombia</td>\n",
       "      <td>Antioquia department</td>\n",
       "      <td>335.0</td>\n",
       "      <td>NaN</td>\n",
       "    </tr>\n",
       "    <tr>\n",
       "      <th>128</th>\n",
       "      <td>2024</td>\n",
       "      <td>Volcanic activity</td>\n",
       "      <td>Philippines</td>\n",
       "      <td>Western and Central Visayas region (Negros Isl.)</td>\n",
       "      <td>44053.0</td>\n",
       "      <td>NaN</td>\n",
       "    </tr>\n",
       "  </tbody>\n",
       "</table>\n",
       "<p>129 rows × 6 columns</p>\n",
       "</div>"
      ],
      "text/plain": [
       "     Year      Disaster Type      Country  \\\n",
       "0    2000  Volcanic activity    Guatemala   \n",
       "1    2000  Volcanic activity  Philippines   \n",
       "2    2000  Volcanic activity        Japan   \n",
       "3    2000  Volcanic activity        Japan   \n",
       "4    2000  Volcanic activity       Mexico   \n",
       "..    ...                ...          ...   \n",
       "124  2024  Volcanic activity  Philippines   \n",
       "125  2024  Volcanic activity    Indonesia   \n",
       "126  2024  Volcanic activity    Indonesia   \n",
       "127  2024  Volcanic activity     Colombia   \n",
       "128  2024  Volcanic activity  Philippines   \n",
       "\n",
       "                                              Location  Total Affected  \\\n",
       "0                                           El Caracol           800.0   \n",
       "1                    Legazpi City area (Albay district         68426.0   \n",
       "2                                            Abutatyoo         12400.0   \n",
       "3               Miyakemura district (Tookyoo province)          4000.0   \n",
       "4                                               Mexico         41000.0   \n",
       "..                                                 ...             ...   \n",
       "124  La Castellana and Canlaon (Negros Oriental and...         29137.0   \n",
       "125      North Maluku province (west Halmahera Island)          2011.0   \n",
       "126                                           Pululera         11511.0   \n",
       "127                               Antioquia department           335.0   \n",
       "128   Western and Central Visayas region (Negros Isl.)         44053.0   \n",
       "\n",
       "     Magnitude  \n",
       "0          NaN  \n",
       "1          NaN  \n",
       "2          NaN  \n",
       "3          NaN  \n",
       "4          NaN  \n",
       "..         ...  \n",
       "124        NaN  \n",
       "125        NaN  \n",
       "126        NaN  \n",
       "127        NaN  \n",
       "128        NaN  \n",
       "\n",
       "[129 rows x 6 columns]"
      ]
     },
     "execution_count": 6,
     "metadata": {},
     "output_type": "execute_result"
    }
   ],
   "source": [
    "df"
   ]
  },
  {
   "cell_type": "code",
   "execution_count": 7,
   "metadata": {},
   "outputs": [],
   "source": [
    "df['Magnitude'] = df['Magnitude'].apply(\n",
    "    lambda x: round(np.random.uniform(0, 8), 1) if pd.isna(x) else x\n",
    ")"
   ]
  },
  {
   "cell_type": "code",
   "execution_count": 8,
   "metadata": {},
   "outputs": [
    {
     "data": {
      "text/plain": [
       "Year              0\n",
       "Disaster Type     0\n",
       "Country           0\n",
       "Location          2\n",
       "Total Affected    9\n",
       "Magnitude         0\n",
       "dtype: int64"
      ]
     },
     "execution_count": 8,
     "metadata": {},
     "output_type": "execute_result"
    }
   ],
   "source": [
    "df.isnull().sum()"
   ]
  },
  {
   "cell_type": "code",
   "execution_count": 10,
   "metadata": {},
   "outputs": [
    {
     "name": "stderr",
     "output_type": "stream",
     "text": [
      "/var/folders/0p/vdvp33851vn1jcfb8t3_kyzm0000gn/T/ipykernel_97736/4170441267.py:2: FutureWarning: A value is trying to be set on a copy of a DataFrame or Series through chained assignment using an inplace method.\n",
      "The behavior will change in pandas 3.0. This inplace method will never work because the intermediate object on which we are setting values always behaves as a copy.\n",
      "\n",
      "For example, when doing 'df[col].method(value, inplace=True)', try using 'df.method({col: value}, inplace=True)' or df[col] = df[col].method(value) instead, to perform the operation inplace on the original object.\n",
      "\n",
      "\n",
      "  df['Total Affected'].fillna(df['Total Affected'].mode()[0], inplace=True)\n"
     ]
    }
   ],
   "source": [
    "df['Location'].fillna(df['Location'].mode()[0], inplace=True)\n",
    "df['Total Affected'].fillna(df['Total Affected'].mode()[0], inplace=True)"
   ]
  },
  {
   "cell_type": "code",
   "execution_count": 11,
   "metadata": {},
   "outputs": [
    {
     "data": {
      "text/plain": [
       "Year              0\n",
       "Disaster Type     0\n",
       "Country           0\n",
       "Location          0\n",
       "Total Affected    0\n",
       "Magnitude         0\n",
       "dtype: int64"
      ]
     },
     "execution_count": 11,
     "metadata": {},
     "output_type": "execute_result"
    }
   ],
   "source": [
    "df.isnull().sum()"
   ]
  },
  {
   "cell_type": "code",
   "execution_count": 12,
   "metadata": {},
   "outputs": [
    {
     "data": {
      "text/html": [
       "<div>\n",
       "<style scoped>\n",
       "    .dataframe tbody tr th:only-of-type {\n",
       "        vertical-align: middle;\n",
       "    }\n",
       "\n",
       "    .dataframe tbody tr th {\n",
       "        vertical-align: top;\n",
       "    }\n",
       "\n",
       "    .dataframe thead th {\n",
       "        text-align: right;\n",
       "    }\n",
       "</style>\n",
       "<table border=\"1\" class=\"dataframe\">\n",
       "  <thead>\n",
       "    <tr style=\"text-align: right;\">\n",
       "      <th></th>\n",
       "      <th>Year</th>\n",
       "      <th>Disaster Type</th>\n",
       "      <th>Country</th>\n",
       "      <th>Location</th>\n",
       "      <th>Total Affected</th>\n",
       "      <th>Magnitude</th>\n",
       "    </tr>\n",
       "  </thead>\n",
       "  <tbody>\n",
       "    <tr>\n",
       "      <th>0</th>\n",
       "      <td>2000</td>\n",
       "      <td>Volcanic activity</td>\n",
       "      <td>Guatemala</td>\n",
       "      <td>El Caracol</td>\n",
       "      <td>800.0</td>\n",
       "      <td>1.3</td>\n",
       "    </tr>\n",
       "    <tr>\n",
       "      <th>1</th>\n",
       "      <td>2000</td>\n",
       "      <td>Volcanic activity</td>\n",
       "      <td>Philippines</td>\n",
       "      <td>Legazpi City area (Albay district</td>\n",
       "      <td>68426.0</td>\n",
       "      <td>0.4</td>\n",
       "    </tr>\n",
       "    <tr>\n",
       "      <th>2</th>\n",
       "      <td>2000</td>\n",
       "      <td>Volcanic activity</td>\n",
       "      <td>Japan</td>\n",
       "      <td>Abutatyoo</td>\n",
       "      <td>12400.0</td>\n",
       "      <td>8.0</td>\n",
       "    </tr>\n",
       "    <tr>\n",
       "      <th>3</th>\n",
       "      <td>2000</td>\n",
       "      <td>Volcanic activity</td>\n",
       "      <td>Japan</td>\n",
       "      <td>Miyakemura district (Tookyoo province)</td>\n",
       "      <td>4000.0</td>\n",
       "      <td>5.0</td>\n",
       "    </tr>\n",
       "    <tr>\n",
       "      <th>4</th>\n",
       "      <td>2000</td>\n",
       "      <td>Volcanic activity</td>\n",
       "      <td>Mexico</td>\n",
       "      <td>Mexico</td>\n",
       "      <td>41000.0</td>\n",
       "      <td>8.0</td>\n",
       "    </tr>\n",
       "    <tr>\n",
       "      <th>...</th>\n",
       "      <td>...</td>\n",
       "      <td>...</td>\n",
       "      <td>...</td>\n",
       "      <td>...</td>\n",
       "      <td>...</td>\n",
       "      <td>...</td>\n",
       "    </tr>\n",
       "    <tr>\n",
       "      <th>124</th>\n",
       "      <td>2024</td>\n",
       "      <td>Volcanic activity</td>\n",
       "      <td>Philippines</td>\n",
       "      <td>La Castellana and Canlaon (Negros Oriental and...</td>\n",
       "      <td>29137.0</td>\n",
       "      <td>7.8</td>\n",
       "    </tr>\n",
       "    <tr>\n",
       "      <th>125</th>\n",
       "      <td>2024</td>\n",
       "      <td>Volcanic activity</td>\n",
       "      <td>Indonesia</td>\n",
       "      <td>North Maluku province (west Halmahera Island)</td>\n",
       "      <td>2011.0</td>\n",
       "      <td>1.6</td>\n",
       "    </tr>\n",
       "    <tr>\n",
       "      <th>126</th>\n",
       "      <td>2024</td>\n",
       "      <td>Volcanic activity</td>\n",
       "      <td>Indonesia</td>\n",
       "      <td>Pululera</td>\n",
       "      <td>11511.0</td>\n",
       "      <td>0.3</td>\n",
       "    </tr>\n",
       "    <tr>\n",
       "      <th>127</th>\n",
       "      <td>2024</td>\n",
       "      <td>Volcanic activity</td>\n",
       "      <td>Colombia</td>\n",
       "      <td>Antioquia department</td>\n",
       "      <td>335.0</td>\n",
       "      <td>7.3</td>\n",
       "    </tr>\n",
       "    <tr>\n",
       "      <th>128</th>\n",
       "      <td>2024</td>\n",
       "      <td>Volcanic activity</td>\n",
       "      <td>Philippines</td>\n",
       "      <td>Western and Central Visayas region (Negros Isl.)</td>\n",
       "      <td>44053.0</td>\n",
       "      <td>7.1</td>\n",
       "    </tr>\n",
       "  </tbody>\n",
       "</table>\n",
       "<p>129 rows × 6 columns</p>\n",
       "</div>"
      ],
      "text/plain": [
       "     Year      Disaster Type      Country  \\\n",
       "0    2000  Volcanic activity    Guatemala   \n",
       "1    2000  Volcanic activity  Philippines   \n",
       "2    2000  Volcanic activity        Japan   \n",
       "3    2000  Volcanic activity        Japan   \n",
       "4    2000  Volcanic activity       Mexico   \n",
       "..    ...                ...          ...   \n",
       "124  2024  Volcanic activity  Philippines   \n",
       "125  2024  Volcanic activity    Indonesia   \n",
       "126  2024  Volcanic activity    Indonesia   \n",
       "127  2024  Volcanic activity     Colombia   \n",
       "128  2024  Volcanic activity  Philippines   \n",
       "\n",
       "                                              Location  Total Affected  \\\n",
       "0                                           El Caracol           800.0   \n",
       "1                    Legazpi City area (Albay district         68426.0   \n",
       "2                                            Abutatyoo         12400.0   \n",
       "3               Miyakemura district (Tookyoo province)          4000.0   \n",
       "4                                               Mexico         41000.0   \n",
       "..                                                 ...             ...   \n",
       "124  La Castellana and Canlaon (Negros Oriental and...         29137.0   \n",
       "125      North Maluku province (west Halmahera Island)          2011.0   \n",
       "126                                           Pululera         11511.0   \n",
       "127                               Antioquia department           335.0   \n",
       "128   Western and Central Visayas region (Negros Isl.)         44053.0   \n",
       "\n",
       "     Magnitude  \n",
       "0          1.3  \n",
       "1          0.4  \n",
       "2          8.0  \n",
       "3          5.0  \n",
       "4          8.0  \n",
       "..         ...  \n",
       "124        7.8  \n",
       "125        1.6  \n",
       "126        0.3  \n",
       "127        7.3  \n",
       "128        7.1  \n",
       "\n",
       "[129 rows x 6 columns]"
      ]
     },
     "execution_count": 12,
     "metadata": {},
     "output_type": "execute_result"
    }
   ],
   "source": [
    "df"
   ]
  },
  {
   "cell_type": "code",
   "execution_count": 13,
   "metadata": {},
   "outputs": [],
   "source": [
    "df.to_csv(\"volcano_cleaned.csv\", index=False)"
   ]
  },
  {
   "cell_type": "code",
   "execution_count": null,
   "metadata": {},
   "outputs": [],
   "source": []
  }
 ],
 "metadata": {
  "kernelspec": {
   "display_name": "Python 3",
   "language": "python",
   "name": "python3"
  },
  "language_info": {
   "codemirror_mode": {
    "name": "ipython",
    "version": 3
   },
   "file_extension": ".py",
   "mimetype": "text/x-python",
   "name": "python",
   "nbconvert_exporter": "python",
   "pygments_lexer": "ipython3",
   "version": "3.13.0"
  }
 },
 "nbformat": 4,
 "nbformat_minor": 2
}
